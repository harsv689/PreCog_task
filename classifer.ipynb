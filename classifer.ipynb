{
  "nbformat": 4,
  "nbformat_minor": 0,
  "metadata": {
    "colab": {
      "provenance": []
    },
    "kernelspec": {
      "name": "python3",
      "display_name": "Python 3"
    },
    "language_info": {
      "name": "python"
    }
  },
  "cells": [
    {
      "cell_type": "code",
      "execution_count": null,
      "metadata": {
        "id": "b-nY2a8MiJ7p"
      },
      "outputs": [],
      "source": [
        "import pandas as pd\n",
        "import numpy as np\n",
        "from sklearn.preprocessing import LabelEncoder\n",
        "from tensorflow.keras.models import load_model\n",
        "from keras.models import Sequential\n",
        "from keras.layers import Dense\n",
        "from sklearn.model_selection import train_test_split\n"
      ]
    },
    {
      "cell_type": "code",
      "source": [
        "# Loading the data\n",
        "# import dask.dataframe as dd\n",
        "# le = LabelEncoder()\n",
        "# df = dd.read_csv(\"/content/drive/Shareddrives/Precog/Precog/acts_sections.csv\")\n",
        "# df = df[['section', 'act', 'bailable_ipc','criminal']]\n",
        "# df['bailable_ipc'] = df[\"bailable_ipc\"].fillna('0')\n",
        "# df['section'] = df[\"section\"].fillna('0')\n",
        "# df.head(10)\n",
        "# X = df[['section', 'act', 'bailable_ipc']]  # features\n",
        "# y = df['criminal']  # target\n",
        "# le = LabelEncoder()\n",
        "# X['section'] = le.fit_transform(X['section'])\n",
        "# X['act'] = le.fit_transform(X['act'])\n",
        "# X['bailable_ipc'] = le.fit_transform(X['bailable_ipc'])\n",
        "# X_train, X_test, y_train, y_test = train_test_split(X, y, test_size=0.2)\n",
        "# import pandas as pd\n",
        "# from pprint import pprint\n",
        "\n",
        "# filename=\"/content/drive/Shareddrives/Precog/Precog/acts_sections.csv\"\n",
        "# chunksize = 10 ** 6\n",
        "# df= pd.read_csv(filename)\n",
        "    "
      ],
      "metadata": {
        "id": "bOcrKwwEirtN"
      },
      "execution_count": null,
      "outputs": []
    },
    {
      "cell_type": "code",
      "source": [
        "import pandas\n",
        "import random\n",
        "\n",
        "filename = \"/content/drive/Shareddrives/Precog/Precog/acts_sections.csv\"\n",
        "n = sum(1 for line in open(filename)) - 1 #number of records in file (excludes header)\n",
        "s = 5000000 #desired sample size\n",
        "skip = sorted(random.sample(range(1,n+1),n-s)) #the 0-indexed header will not be included in the skip list\n",
        "df = pandas.read_csv(filename, skiprows=skip)\n"
      ],
      "metadata": {
        "colab": {
          "base_uri": "https://localhost:8080/"
        },
        "id": "e4fXxzTek4kX",
        "outputId": "4634465d-70cc-4ae9-9a9d-2f2a806fe5f6"
      },
      "execution_count": null,
      "outputs": [
        {
          "output_type": "stream",
          "name": "stderr",
          "text": [
            "/usr/local/lib/python3.8/dist-packages/IPython/core/interactiveshell.py:3326: DtypeWarning: Columns (3) have mixed types.Specify dtype option on import or set low_memory=False.\n",
            "  exec(code_obj, self.user_global_ns, self.user_ns)\n"
          ]
        }
      ]
    },
    {
      "cell_type": "code",
      "source": [
        "df['bailable_ipc'] = df[\"bailable_ipc\"].fillna('3')\n",
        "df = df[['section', 'act', 'bailable_ipc','criminal']]\n",
        "df = df.dropna()  \n",
        "X = df[['section', 'act', 'bailable_ipc']]\n",
        "y = df['criminal']  \n",
        "print(X.head(10))"
      ],
      "metadata": {
        "colab": {
          "base_uri": "https://localhost:8080/"
        },
        "id": "7gHgzDRQ9g0E",
        "outputId": "9b43fba5-5d81-4b6e-e423-d17c6f6e3a67"
      },
      "execution_count": null,
      "outputs": [
        {
          "output_type": "stream",
          "name": "stdout",
          "text": [
            "        section      act bailable_ipc\n",
            "314540      9.0   2476.0            3\n",
            "314541     17.0  16782.0            3\n",
            "314542     21.0  16869.0            3\n",
            "314543     23.0   9726.0            3\n",
            "314544     36.0  26513.0            3\n",
            "314545     36.0  11935.0            3\n",
            "314546     36.0   1660.0            3\n",
            "314547     36.0  25555.0            3\n",
            "314548     36.0   1662.0            3\n",
            "314549     36.0  11935.0            3\n"
          ]
        }
      ]
    },
    {
      "cell_type": "code",
      "source": [
        "le = LabelEncoder()\n",
        "X['section'] = le.fit_transform(X['section'])\n",
        "X['act'] = le.fit_transform(X['act'])\n",
        "X['bailable_ipc'] = le.fit_transform(X['bailable_ipc'])\n",
        "\n",
        "# Split the data into training and testing sets\n",
        "X_train, X_test, y_train, y_test = train_test_split(X, y, test_size=0.2)"
      ],
      "metadata": {
        "colab": {
          "base_uri": "https://localhost:8080/"
        },
        "id": "kxy-OWDV_qmF",
        "outputId": "e6e66676-35ca-4e4e-9105-b53b44136abe"
      },
      "execution_count": null,
      "outputs": [
        {
          "output_type": "stream",
          "name": "stderr",
          "text": [
            "<ipython-input-6-6ef230c465bc>:2: SettingWithCopyWarning: \n",
            "A value is trying to be set on a copy of a slice from a DataFrame.\n",
            "Try using .loc[row_indexer,col_indexer] = value instead\n",
            "\n",
            "See the caveats in the documentation: https://pandas.pydata.org/pandas-docs/stable/user_guide/indexing.html#returning-a-view-versus-a-copy\n",
            "  X['section'] = le.fit_transform(X['section'])\n",
            "<ipython-input-6-6ef230c465bc>:3: SettingWithCopyWarning: \n",
            "A value is trying to be set on a copy of a slice from a DataFrame.\n",
            "Try using .loc[row_indexer,col_indexer] = value instead\n",
            "\n",
            "See the caveats in the documentation: https://pandas.pydata.org/pandas-docs/stable/user_guide/indexing.html#returning-a-view-versus-a-copy\n",
            "  X['act'] = le.fit_transform(X['act'])\n",
            "<ipython-input-6-6ef230c465bc>:4: SettingWithCopyWarning: \n",
            "A value is trying to be set on a copy of a slice from a DataFrame.\n",
            "Try using .loc[row_indexer,col_indexer] = value instead\n",
            "\n",
            "See the caveats in the documentation: https://pandas.pydata.org/pandas-docs/stable/user_guide/indexing.html#returning-a-view-versus-a-copy\n",
            "  X['bailable_ipc'] = le.fit_transform(X['bailable_ipc'])\n"
          ]
        }
      ]
    },
    {
      "cell_type": "code",
      "source": [
        "def build_model(input_d, l1_nodes, l2_nodes,l3_nodes):\n",
        "    model = Sequential()\n",
        "    model.add(Dense(l1_nodes, input_dim=input_d, activation='relu'))\n",
        "    model.add(Dense(l2_nodes, activation='relu'))\n",
        "    model.add(Dense(l3_nodes, activation='relu'))\n",
        "    model.add(Dense(1, activation='sigmoid'))\n",
        "    model.compile(loss='binary_crossentropy', optimizer='adam', metrics=['accuracy'])\n",
        "    return model"
      ],
      "metadata": {
        "id": "MRrFP1dz_4-E"
      },
      "execution_count": null,
      "outputs": []
    },
    {
      "cell_type": "code",
      "source": [
        "model = build_model(3, 10, 20,10)"
      ],
      "metadata": {
        "id": "yEZMg7a-A1h5"
      },
      "execution_count": null,
      "outputs": []
    },
    {
      "cell_type": "code",
      "source": [
        "model.fit(X_train, y_train, epochs=35, batch_size=1000)"
      ],
      "metadata": {
        "colab": {
          "base_uri": "https://localhost:8080/"
        },
        "id": "sq74OG_PEk2J",
        "outputId": "f7334dae-7205-493d-f6c5-9cf210edb4c3"
      },
      "execution_count": null,
      "outputs": [
        {
          "output_type": "stream",
          "name": "stdout",
          "text": [
            "Epoch 1/35\n",
            "3748/3748 [==============================] - 9s 2ms/step - loss: 153.7567 - accuracy: 0.7016\n",
            "Epoch 2/35\n",
            "3748/3748 [==============================] - 9s 2ms/step - loss: 11.2783 - accuracy: 0.7131\n",
            "Epoch 3/35\n",
            "3748/3748 [==============================] - 8s 2ms/step - loss: 8.5937 - accuracy: 0.7163\n",
            "Epoch 4/35\n",
            "3748/3748 [==============================] - 9s 2ms/step - loss: 5.5458 - accuracy: 0.7341\n",
            "Epoch 5/35\n",
            "3748/3748 [==============================] - 8s 2ms/step - loss: 2.6540 - accuracy: 0.7662\n",
            "Epoch 6/35\n",
            "3748/3748 [==============================] - 9s 2ms/step - loss: 2.0676 - accuracy: 0.7827\n",
            "Epoch 7/35\n",
            "3748/3748 [==============================] - 10s 3ms/step - loss: 1.6898 - accuracy: 0.7976\n",
            "Epoch 8/35\n",
            "3748/3748 [==============================] - 9s 2ms/step - loss: 1.2462 - accuracy: 0.8109\n",
            "Epoch 9/35\n",
            "3748/3748 [==============================] - 9s 2ms/step - loss: 1.1186 - accuracy: 0.8193\n",
            "Epoch 10/35\n",
            "3748/3748 [==============================] - 12s 3ms/step - loss: 0.9552 - accuracy: 0.8304\n",
            "Epoch 11/35\n",
            "3748/3748 [==============================] - 9s 2ms/step - loss: 0.8723 - accuracy: 0.8367\n",
            "Epoch 12/35\n",
            "3748/3748 [==============================] - 8s 2ms/step - loss: 0.7844 - accuracy: 0.8482\n",
            "Epoch 13/35\n",
            "3748/3748 [==============================] - 9s 2ms/step - loss: 0.7505 - accuracy: 0.8551\n",
            "Epoch 14/35\n",
            "3748/3748 [==============================] - 9s 2ms/step - loss: 0.6874 - accuracy: 0.8601\n",
            "Epoch 15/35\n",
            "3748/3748 [==============================] - 9s 2ms/step - loss: 0.6425 - accuracy: 0.8658\n",
            "Epoch 16/35\n",
            "3748/3748 [==============================] - 9s 2ms/step - loss: 0.6207 - accuracy: 0.8666\n",
            "Epoch 17/35\n",
            "3748/3748 [==============================] - 9s 2ms/step - loss: 0.5856 - accuracy: 0.8747\n",
            "Epoch 18/35\n",
            "3748/3748 [==============================] - 9s 2ms/step - loss: 0.5105 - accuracy: 0.8841\n",
            "Epoch 19/35\n",
            "3748/3748 [==============================] - 8s 2ms/step - loss: 0.4853 - accuracy: 0.8847\n",
            "Epoch 20/35\n",
            "3748/3748 [==============================] - 9s 2ms/step - loss: 0.4638 - accuracy: 0.8874\n",
            "Epoch 21/35\n",
            "3748/3748 [==============================] - 9s 2ms/step - loss: 0.4385 - accuracy: 0.8928\n",
            "Epoch 22/35\n",
            "3748/3748 [==============================] - 9s 2ms/step - loss: 0.4152 - accuracy: 0.8947\n",
            "Epoch 23/35\n",
            "3748/3748 [==============================] - 9s 2ms/step - loss: 0.4168 - accuracy: 0.8995\n",
            "Epoch 24/35\n",
            "3748/3748 [==============================] - 9s 2ms/step - loss: 0.3693 - accuracy: 0.9065\n",
            "Epoch 25/35\n",
            "3748/3748 [==============================] - 8s 2ms/step - loss: 0.3733 - accuracy: 0.9052\n",
            "Epoch 26/35\n",
            "3748/3748 [==============================] - 9s 2ms/step - loss: 0.3361 - accuracy: 0.9087\n",
            "Epoch 27/35\n",
            "3748/3748 [==============================] - 9s 2ms/step - loss: 0.3291 - accuracy: 0.9092\n",
            "Epoch 28/35\n",
            "3748/3748 [==============================] - 8s 2ms/step - loss: 0.2975 - accuracy: 0.9143\n",
            "Epoch 29/35\n",
            "3748/3748 [==============================] - 9s 2ms/step - loss: 0.2960 - accuracy: 0.9143\n",
            "Epoch 30/35\n",
            "3748/3748 [==============================] - 10s 3ms/step - loss: 0.2906 - accuracy: 0.9134\n",
            "Epoch 31/35\n",
            "3748/3748 [==============================] - 10s 3ms/step - loss: 0.2724 - accuracy: 0.9155\n",
            "Epoch 32/35\n",
            "3748/3748 [==============================] - 9s 2ms/step - loss: 0.2734 - accuracy: 0.9149\n",
            "Epoch 33/35\n",
            "3748/3748 [==============================] - 8s 2ms/step - loss: 0.2605 - accuracy: 0.9206\n",
            "Epoch 34/35\n",
            "3748/3748 [==============================] - 8s 2ms/step - loss: 0.2531 - accuracy: 0.9208\n",
            "Epoch 35/35\n",
            "3748/3748 [==============================] - 8s 2ms/step - loss: 0.2540 - accuracy: 0.9223\n"
          ]
        },
        {
          "output_type": "execute_result",
          "data": {
            "text/plain": [
              "<keras.callbacks.History at 0x7f9259a56700>"
            ]
          },
          "metadata": {},
          "execution_count": 20
        }
      ]
    },
    {
      "cell_type": "code",
      "source": [
        "scores = model.evaluate(X_test, y_test)\n",
        "print(\"\\n%s: %.2f%%\" % (model.metrics_names[1], scores[1]*100))"
      ],
      "metadata": {
        "colab": {
          "base_uri": "https://localhost:8080/"
        },
        "id": "KY_tLycVHozh",
        "outputId": "98d68f69-e30f-4644-8016-a3e527828037"
      },
      "execution_count": null,
      "outputs": [
        {
          "output_type": "stream",
          "name": "stdout",
          "text": [
            "29280/29280 [==============================] - 42s 1ms/step - loss: 0.1516 - accuracy: 0.9402\n",
            "\n",
            "accuracy: 94.02%\n"
          ]
        }
      ]
    },
    {
      "cell_type": "code",
      "source": [
        "model.save(\"classifier_01\")"
      ],
      "metadata": {
        "id": "5yL9OB8kIBRn"
      },
      "execution_count": null,
      "outputs": []
    }
  ]
}